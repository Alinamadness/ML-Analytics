{
 "cells": [
  {
   "cell_type": "markdown",
   "id": "271cf391",
   "metadata": {},
   "source": [
    "## Hypothesis testing"
   ]
  },
  {
   "cell_type": "markdown",
   "id": "8887a4fd",
   "metadata": {},
   "source": [
    "Выполнила: Галиуллина Алина\n",
    "<br>\n",
    "Тема работы: проверка статистических гипотез\n",
    "<br>\n",
    "Основные комментарии по существу задачи будут в ячейках \"Markdown\". Примечания по коду будут закомментированы в ячейках самого кода"
   ]
  },
  {
   "cell_type": "markdown",
   "id": "582cc44c",
   "metadata": {},
   "source": [
    "<b>Задача 1. Nursing Home Data</b>"
   ]
  },
  {
   "cell_type": "code",
   "execution_count": 1,
   "id": "5ebae6ed",
   "metadata": {},
   "outputs": [],
   "source": [
    "# Импортируем необходимые библиотеки\n",
    "import pandas as pd\n",
    "import numpy as np\n",
    "\n",
    "import matplotlib.pyplot as plt\n",
    "plt.style.use('ggplot')\n",
    "%matplotlib inline\n",
    "import os\n",
    "import seaborn as sns\n",
    "import statsmodels.api as sm\n",
    "\n",
    "from scipy import stats\n"
   ]
  },
  {
   "cell_type": "code",
   "execution_count": 2,
   "id": "4015456a",
   "metadata": {},
   "outputs": [],
   "source": [
    "# Указываем рабочую папку\n",
    "os.chdir(r\"C:\\Users\\qwerty\\Desktop\\ИТМО\\АД на python\\Задачи для лабораторной 4\\Nursing Home Data\")"
   ]
  },
  {
   "cell_type": "code",
   "execution_count": 3,
   "id": "e7ca717c",
   "metadata": {},
   "outputs": [
    {
     "data": {
      "text/html": [
       "<div>\n",
       "<style scoped>\n",
       "    .dataframe tbody tr th:only-of-type {\n",
       "        vertical-align: middle;\n",
       "    }\n",
       "\n",
       "    .dataframe tbody tr th {\n",
       "        vertical-align: top;\n",
       "    }\n",
       "\n",
       "    .dataframe thead th {\n",
       "        text-align: right;\n",
       "    }\n",
       "</style>\n",
       "<table border=\"1\" class=\"dataframe\">\n",
       "  <thead>\n",
       "    <tr style=\"text-align: right;\">\n",
       "      <th></th>\n",
       "      <th>BED</th>\n",
       "      <th>MCDAYS</th>\n",
       "      <th>TDAYS</th>\n",
       "      <th>PCREV</th>\n",
       "      <th>NSAL</th>\n",
       "      <th>FEXP</th>\n",
       "      <th>RURAL</th>\n",
       "    </tr>\n",
       "  </thead>\n",
       "  <tbody>\n",
       "    <tr>\n",
       "      <th>0</th>\n",
       "      <td>244</td>\n",
       "      <td>128</td>\n",
       "      <td>385</td>\n",
       "      <td>23521</td>\n",
       "      <td>5230</td>\n",
       "      <td>5334</td>\n",
       "      <td>0</td>\n",
       "    </tr>\n",
       "    <tr>\n",
       "      <th>1</th>\n",
       "      <td>59</td>\n",
       "      <td>155</td>\n",
       "      <td>203</td>\n",
       "      <td>9160</td>\n",
       "      <td>2459</td>\n",
       "      <td>493</td>\n",
       "      <td>1</td>\n",
       "    </tr>\n",
       "    <tr>\n",
       "      <th>2</th>\n",
       "      <td>120</td>\n",
       "      <td>281</td>\n",
       "      <td>392</td>\n",
       "      <td>21900</td>\n",
       "      <td>6304</td>\n",
       "      <td>6115</td>\n",
       "      <td>0</td>\n",
       "    </tr>\n",
       "    <tr>\n",
       "      <th>3</th>\n",
       "      <td>120</td>\n",
       "      <td>291</td>\n",
       "      <td>419</td>\n",
       "      <td>22354</td>\n",
       "      <td>6590</td>\n",
       "      <td>6346</td>\n",
       "      <td>0</td>\n",
       "    </tr>\n",
       "    <tr>\n",
       "      <th>4</th>\n",
       "      <td>120</td>\n",
       "      <td>238</td>\n",
       "      <td>363</td>\n",
       "      <td>17421</td>\n",
       "      <td>5362</td>\n",
       "      <td>6225</td>\n",
       "      <td>0</td>\n",
       "    </tr>\n",
       "  </tbody>\n",
       "</table>\n",
       "</div>"
      ],
      "text/plain": [
       "   BED  MCDAYS  TDAYS  PCREV  NSAL  FEXP  RURAL\n",
       "0  244     128    385  23521  5230  5334      0\n",
       "1   59     155    203   9160  2459   493      1\n",
       "2  120     281    392  21900  6304  6115      0\n",
       "3  120     291    419  22354  6590  6346      0\n",
       "4  120     238    363  17421  5362  6225      0"
      ]
     },
     "execution_count": 3,
     "metadata": {},
     "output_type": "execute_result"
    }
   ],
   "source": [
    "# Между данными в различных столбцах различное количество пробелов, поэтому используем регулярное выражение в sep.\n",
    "data = pd.read_csv('Nursing Home Data_data.txt', sep =r\"\\s+\")\n",
    "\n",
    "# Выведем датафрейм\n",
    "data.head()"
   ]
  },
  {
   "cell_type": "markdown",
   "id": "2be1a19f",
   "metadata": {},
   "source": [
    "### ШАГ 0. Знакомство с данными и их осмысление. Постановка задачи.\n",
    "<br>\n",
    "В данных нет пропусков, что упрощает нам работу.\n",
    "\n",
    "Имеем данные о 52-х больницах в штате Нью-Мексико (1988 год) с информацией о количестве коек, количестве пациентов в год, годовом окладе медсестры и других сведениях по каждой из больниц.\n",
    "Полный перечень атрибутов будет приведен ниже.\n",
    "<br>\n",
    "\n",
    "<b>Задача </b>: сравнить годовые оклады медсестер, работающих за городом и в городе."
   ]
  },
  {
   "cell_type": "markdown",
   "id": "5c026938",
   "metadata": {},
   "source": [
    "<b>Описание переменных</b>\n",
    "\n",
    "BED = число коек в больнице\n",
    "\n",
    "MCDAYS = количество дней пребывания пациентов в стационаре за год (в сотнях)\n",
    "\n",
    "TDAYS = общее количество дней пребывания пациентов за год (в сотнях)\n",
    "\n",
    "PCREV = годовой доход от ухода за пациентами (в сотнях долларов)\n",
    "\n",
    "NSAL = годовой оклад медсестры (в сотнях долларов)\n",
    "\n",
    "FEXP = расходы больницы за год (в сотнях долларов)\n",
    "\n",
    "RURAL = код типа больницы: загородная (код 1) или городская (код 0)"
   ]
  },
  {
   "cell_type": "code",
   "execution_count": 4,
   "id": "6ea9c962",
   "metadata": {},
   "outputs": [
    {
     "data": {
      "text/plain": [
       "BED       0\n",
       "MCDAYS    0\n",
       "TDAYS     0\n",
       "PCREV     0\n",
       "NSAL      0\n",
       "FEXP      0\n",
       "RURAL     0\n",
       "dtype: int64"
      ]
     },
     "execution_count": 4,
     "metadata": {},
     "output_type": "execute_result"
    }
   ],
   "source": [
    "# В данных нет пропусков \n",
    "data[data.isnull()].count()"
   ]
  },
  {
   "cell_type": "code",
   "execution_count": 5,
   "id": "05d98343",
   "metadata": {},
   "outputs": [
    {
     "data": {
      "text/html": [
       "<div>\n",
       "<style scoped>\n",
       "    .dataframe tbody tr th:only-of-type {\n",
       "        vertical-align: middle;\n",
       "    }\n",
       "\n",
       "    .dataframe tbody tr th {\n",
       "        vertical-align: top;\n",
       "    }\n",
       "\n",
       "    .dataframe thead th {\n",
       "        text-align: right;\n",
       "    }\n",
       "</style>\n",
       "<table border=\"1\" class=\"dataframe\">\n",
       "  <thead>\n",
       "    <tr style=\"text-align: right;\">\n",
       "      <th></th>\n",
       "      <th>count</th>\n",
       "      <th>mean</th>\n",
       "      <th>std</th>\n",
       "      <th>min</th>\n",
       "      <th>25%</th>\n",
       "      <th>50%</th>\n",
       "      <th>75%</th>\n",
       "      <th>max</th>\n",
       "    </tr>\n",
       "    <tr>\n",
       "      <th>RURAL</th>\n",
       "      <th></th>\n",
       "      <th></th>\n",
       "      <th></th>\n",
       "      <th></th>\n",
       "      <th></th>\n",
       "      <th></th>\n",
       "      <th></th>\n",
       "      <th></th>\n",
       "    </tr>\n",
       "  </thead>\n",
       "  <tbody>\n",
       "    <tr>\n",
       "      <th>0</th>\n",
       "      <td>18.0</td>\n",
       "      <td>4859.500000</td>\n",
       "      <td>1820.990301</td>\n",
       "      <td>1955.0</td>\n",
       "      <td>3129.5</td>\n",
       "      <td>4940.5</td>\n",
       "      <td>6287.00</td>\n",
       "      <td>7489.0</td>\n",
       "    </tr>\n",
       "    <tr>\n",
       "      <th>1</th>\n",
       "      <td>34.0</td>\n",
       "      <td>3258.705882</td>\n",
       "      <td>1278.214985</td>\n",
       "      <td>1288.0</td>\n",
       "      <td>2071.5</td>\n",
       "      <td>3124.5</td>\n",
       "      <td>4124.25</td>\n",
       "      <td>6059.0</td>\n",
       "    </tr>\n",
       "  </tbody>\n",
       "</table>\n",
       "</div>"
      ],
      "text/plain": [
       "       count         mean          std     min     25%     50%      75%  \\\n",
       "RURAL                                                                     \n",
       "0       18.0  4859.500000  1820.990301  1955.0  3129.5  4940.5  6287.00   \n",
       "1       34.0  3258.705882  1278.214985  1288.0  2071.5  3124.5  4124.25   \n",
       "\n",
       "          max  \n",
       "RURAL          \n",
       "0      7489.0  \n",
       "1      6059.0  "
      ]
     },
     "execution_count": 5,
     "metadata": {},
     "output_type": "execute_result"
    }
   ],
   "source": [
    "# Выведем статистику по зарплатам для каждой из 2-х исследуемых групп.\n",
    "grouped = data.groupby(['RURAL'])['NSAL']\n",
    "grouped.describe()"
   ]
  },
  {
   "cell_type": "markdown",
   "id": "89342787",
   "metadata": {},
   "source": [
    "Имеем 18 городских и 34 загородных (сельских) больниц. Интересоваться будем годовыми окладами медсестер (т.е. значениями переменной NSAL) в рамках поставленной задачи.\n",
    "\n",
    "Сначала про оклады медсестер в каждом типе больницы.\n",
    "\n",
    "Городские: среднее значение и медиана довольно близки (около 4900 сотен долларов). Межквартильный размах 3157.5 (сотен долларов), стандартное отклонение 1820.99\n",
    "\n",
    "Сельские: среднее значение и медиана уже не так близки, но все равно сопоставимы (3258.71 и 3124.5 сотен долларов соответственно). Межквартильный размах 2052.75, стандартное отклонение 1278.22. Везде далее будем иметь в виду единицы измерения сотни долларов, чтобы каждый раз не уточнять это.\n",
    "\n",
    "Теперь сравнение. У медсестер сельских больниц меньше: минимальная зарплата, максимальная зарплата, среднее значение з/п и медианное значение. \n",
    "<br>"
   ]
  },
  {
   "cell_type": "markdown",
   "id": "14a6293e",
   "metadata": {},
   "source": [
    "### ШАГ 1. Отбор переменных\n",
    "<br>\n",
    "В данной задаче интересуемся значениями зарплат медсестер (NSAL) в зависимости от места работы (т.е. значения атрибута RURAL)"
   ]
  },
  {
   "cell_type": "code",
   "execution_count": 6,
   "id": "bcc4293e",
   "metadata": {},
   "outputs": [],
   "source": [
    "# Выделим из исходного датафрейма интересующие нас столбцы\n",
    "sal_town = data[data['RURAL'] == 0]['NSAL']\n",
    "sal_rural = data[data['RURAL'] == 1]['NSAL']\n",
    "# Зададим названия\n",
    "sal_town.name = 'salary_town'\n",
    "sal_rural.name = 'salary_rural'"
   ]
  },
  {
   "cell_type": "markdown",
   "id": "b2a3b986",
   "metadata": {},
   "source": [
    "### ШАГ 2. Стандартизация\n",
    "<br>\n",
    "Стандартизация в данном случае не обязательна, все данные по зарплатам представлены в одной и той же шкале (сотни долларов). При сравнении гистограмм распределений мы приведем частоты в нормированной шкале, в остальном будем пользоваться исходными данными."
   ]
  },
  {
   "cell_type": "markdown",
   "id": "fadd8c02",
   "metadata": {},
   "source": [
    "### ШАГ 3. Проверка гипотезы о нормальности распределений.\n",
    "<br>\n",
    "Перед тем, как непосредственно отвечать на вопрос задачи, построим гистограммы распределения зарплат и постараемся понять, с какими распределениями мы имеем дело.\n",
    "<br>"
   ]
  },
  {
   "cell_type": "code",
   "execution_count": 7,
   "id": "06f1bf9b",
   "metadata": {},
   "outputs": [],
   "source": [
    "\"\"\"\n",
    "    Функция histogram для построения гистограммы и функции плотности нормального распределения.\n",
    "    Выполним нормировку (задав density = 1)\n",
    "    x: вектор pd.Series\n",
    "\"\"\"\n",
    "def histogram(x, n_bins):\n",
    "    #  Параметры распределения: \n",
    "    #  математическое ожидание и стандартное отклонение\n",
    "    mu = np.mean(x)\n",
    "    sigma = np.std(x)\n",
    "    #  Решетка точек для построения графика функции\n",
    "    x_1 = np.linspace(np.min(x)/10, 1.5*np.max(x), 300)\n",
    "    plt.figure(figsize=(10,8))\n",
    "    pd.Series(x).hist(bins=n_bins, density=1)\n",
    "    plt.plot(x_1, stats.norm.pdf(x_1, mu, sigma))\n",
    "    x_pos = np.mean(x)\n",
    "#     plt.text(x_pos, 0.0002, r'$f(x) = \\frac{\\exp(-(x-\\mu)^2/2*\\sigma^2)}{\\sigma*\\sqrt{2*\\pi}}$',fontsize=12)\n",
    "    plt.legend(labels  = ['theoretical', x.name])"
   ]
  },
  {
   "cell_type": "markdown",
   "id": "f7c7b11c",
   "metadata": {},
   "source": [
    "Видим, что гистограмма для городских больниц ниже не особо напоминает нормальное распределение (точнее: гистограмма не особо соответствует теоретической функции плотности нормального распределения). Можем отметить, что есть и отклонения от симметричности, и от колоколообразной формы.\n",
    "\n",
    "При изменении количества интервалов для построения гистограммы ситуация лучше не становится. Несмотря на то, что объем выборки мал (и мы более снисходительны к указанным выше отклонениям), я бы предположила, что распределение зарплат медсестер городских больниц не является нормальным."
   ]
  },
  {
   "cell_type": "code",
   "execution_count": 8,
   "id": "21519c0d",
   "metadata": {},
   "outputs": [
    {
     "data": {
      "image/png": "[encoded data removed]",
      "text/plain": [
       "<Figure size 720x576 with 1 Axes>"
      ]
     },
     "metadata": {
      "needs_background": "light"
     },
     "output_type": "display_data"
    }
   ],
   "source": [
    "histogram(sal_town,8)"
   ]
  },
  {
   "cell_type": "markdown",
   "id": "c802b599",
   "metadata": {},
   "source": [
    "Построим аналогичное сравнение для сельских больниц. Видим отклонения от нормальности: нарушение симметрии (с обеих сторон, причем слева особенно), отклонения от колоколообразной формы.\n",
    "\n",
    "Здесь распределение уже больше походит на нормальное с учетом нашей снисходительности из-за малого объема выборки."
   ]
  },
  {
   "cell_type": "code",
   "execution_count": 9,
   "id": "4184d864",
   "metadata": {},
   "outputs": [
    {
     "data": {
      "image/png": "[encoded data removed]",
      "text/plain": [
       "<Figure size 720x576 with 1 Axes>"
      ]
     },
     "metadata": {
      "needs_background": "light"
     },
     "output_type": "display_data"
    }
   ],
   "source": [
    "histogram(sal_rural, 10)"
   ]
  },
  {
   "cell_type": "markdown",
   "id": "b9f5b4d4",
   "metadata": {},
   "source": [
    "По гистограммам довольно затруднительно сделать однозначные выводы о нормальности распределений. Ситуация меняется в зависимости от количества отрезков разбиения. Также не стоит забывать об объемах наших выборок: 18 и 34 значения! В таких небольших выборках все \"изъяны\" распределения как будто усиливаются.\n",
    "\n",
    "Попробуем, наконец, использовать критерий для проверки гипотезы о нормальности каждого из двух распределений. В обоих случаях имеем основную и альтернативную гипотезы:\n",
    "\n",
    "<b>Гипотеза H0 </b>: распределение случайной величины \"зарплата медсестры\" в городе/за городом является нормальным\n",
    "\n",
    "<b>Гипотеза H1 </b>: распределение случайной величины \"зарплата медсестры\" в городе/за городом не является нормальным"
   ]
  },
  {
   "cell_type": "markdown",
   "id": "72f87882",
   "metadata": {},
   "source": [
    "Для проверки гипотез воспользуемся критерием Шапиро - Уилка. Уровень значимости = 0.05. Если полученное p-value больше уровня значимости, то нет оснований отвергать нулевую гипотезу. Иначе - будем отвергать нулевую гипотезу."
   ]
  },
  {
   "cell_type": "code",
   "execution_count": 10,
   "id": "f1b5b9e1",
   "metadata": {},
   "outputs": [
    {
     "name": "stdout",
     "output_type": "stream",
     "text": [
      "Для городских з/п:\n",
      "Не отвергаем H0 о нормальности распределения, p-value = 0.26659053564071655\n",
      "Для сельских з/п:\n",
      "Не отвергаем H0 о нормальности распределения, p-value = 0.0717819407582283\n"
     ]
    }
   ],
   "source": [
    "\"\"\"\n",
    "    Функция shapiro_test для проверки гипотезы о нормальности распределения выборки\n",
    "    x: вектор pd.Series\n",
    "    alpha: число float\n",
    "\"\"\"\n",
    "def shapiro_test(x,alpha):\n",
    "    if stats.shapiro(x)[1] > alpha:\n",
    "        print('Не отвергаем H0 о нормальности распределения, p-value =', stats.shapiro(x)[1])\n",
    "    elif stats.shapiro(x)[1] < alpha:\n",
    "        print('Отвергаем H0 о нормальности распределения, p-value =', stats.shapiro(x)[1])\n",
    "    else:\n",
    "        print('Требуется более подробное рассмотрение')\n",
    "\n",
    "alpha = 0.05\n",
    "print('Для городских з/п:')\n",
    "shapiro_test(sal_town, alpha)\n",
    "\n",
    "print('Для сельских з/п:')\n",
    "shapiro_test(sal_rural, alpha)"
   ]
  },
  {
   "cell_type": "markdown",
   "id": "b677c626",
   "metadata": {},
   "source": [
    "Видим, что гипотеза о нормальности распределения не отвергается (для з/п городских и сельских медсестер). Иными словами - распределения зарплат нормальны."
   ]
  },
  {
   "cell_type": "markdown",
   "id": "cab50e23",
   "metadata": {},
   "source": [
    "Кому же верить: критерию или собственным глазам? Попробуем еще один метод проверки распределения на нормальность - график QQ-plot. Если кратко: на этом графике отображено теоретическое распределение частот (в случае нормального распределения) и распределение частот на нашей выборке."
   ]
  },
  {
   "cell_type": "code",
   "execution_count": 11,
   "id": "414606d9",
   "metadata": {},
   "outputs": [
    {
     "data": {
      "image/png": "[encoded data removed]",
      "text/plain": [
       "<Figure size 432x288 with 1 Axes>"
      ]
     },
     "metadata": {
      "needs_background": "light"
     },
     "output_type": "display_data"
    }
   ],
   "source": [
    "# Для з/п городских медсестер\n",
    "fig = sm.qqplot(sal_town, fit = True ,line='45')\n",
    "plt.show()"
   ]
  },
  {
   "cell_type": "markdown",
   "id": "96a84bb2",
   "metadata": {},
   "source": [
    "Если честно, легче не стало. Точки рассматриваемой выборки лежат не строго на прямой, порой достаточно сильно отклоняются. Но как измерить это \"сильно\"?\n",
    "\n",
    "Пожалуй, это одна из самых сложных частей исследования: имея \"противоречивые\" результаты, прийти к собственному заключению. На данный момент мне затруднительно дать однозначный ответ о том, являются ли распределения нормальными, поэтому в Шаге 4 пойдем двумя путями. Получим результаты в предположении о нормальности, а также в предположении о не нормальности распределений, а затем сравним."
   ]
  },
  {
   "cell_type": "markdown",
   "id": "7d648cbd",
   "metadata": {},
   "source": [
    "### ШАГ 4. Проверка гипотезы о равенстве зарплат."
   ]
  },
  {
   "cell_type": "markdown",
   "id": "b124413e",
   "metadata": {},
   "source": [
    "#### 4.1. Проверка в предположении о нормальном распределении"
   ]
  },
  {
   "cell_type": "markdown",
   "id": "6ba97904",
   "metadata": {},
   "source": [
    "В данном случае мы считаем распределения зарплат нормальными. Интересуют нас центры двух распределений, которые мы и будем сравнивать. В качестве типичных значений рассмотрим средние значения. \n",
    "\n",
    "Будем проверять гипотезу о равенстве средних (т.е. типичных) значений двух распределений. Для проверки применим критерий Стьюдента, предварительно проверив равенство дисперсий.\n",
    "\n",
    "Итак, по порядку. Построим на одном графике гистограммы распределений."
   ]
  },
  {
   "cell_type": "code",
   "execution_count": 12,
   "id": "b4389a41",
   "metadata": {},
   "outputs": [
    {
     "data": {
      "image/png": "[encoded data removed]",
      "text/plain": [
       "<Figure size 432x288 with 1 Axes>"
      ]
     },
     "metadata": {
      "needs_background": "light"
     },
     "output_type": "display_data"
    }
   ],
   "source": [
    "\"\"\"\n",
    "    Функция two_hist для построения двух гистограмм и средних значений каждой из выборок.\n",
    "    Для сравнения перейдем от абсолютных частот к относительным (задав weights)\n",
    "    x: вектор pd.Series\n",
    "    y: вектор pd.Series\n",
    "\"\"\"\n",
    "def two_hist(x, y):\n",
    "    x.hist(alpha = 0.5, weights=[1./len(x)]*len(x), bins = 10)\n",
    "    y.hist(alpha = 0.5, weights=[1./len(y)]*len(y), bins = 10)\n",
    "    plt.axvline(x.mean(), alpha = 0.5, color = 'red', linestyle = '-.')\n",
    "    plt.axvline(y.mean(), alpha = 0.5, color = 'blue', linestyle = '-.')\n",
    "    plt.legend(labels  = [x.name, y.name])\n",
    "two_hist(sal_town, sal_rural)"
   ]
  },
  {
   "cell_type": "markdown",
   "id": "cfe9aac4",
   "metadata": {},
   "source": [
    "Критерием Флигнера-Килина проверим, равны ли дисперсии.\n",
    "\n",
    "<b>Гипотеза H0 </b>: дисперсия случайной величины \"зарплата медсестры\" в городе и за городом одинакова\n",
    "\n",
    "<b>Гипотеза H1 </b>: дисперсия случайной величины \"зарплата медсестры\" в городе и за городом различна"
   ]
  },
  {
   "cell_type": "code",
   "execution_count": 13,
   "id": "ccd63690",
   "metadata": {},
   "outputs": [
    {
     "name": "stdout",
     "output_type": "stream",
     "text": [
      "Не отвергаем H0 о равенстве дисперсий, p-value = 0.05254860862708049\n"
     ]
    }
   ],
   "source": [
    "\"\"\"\n",
    "    Функция fligner_test для проверки равенства дисперсий двух выборок.\n",
    "    x: вектор pd.Series\n",
    "    y: вектор pd.Series\n",
    "    alpha: число float\n",
    "\"\"\"\n",
    "def fligner_test(x,y, alpha):\n",
    "    if stats.fligner(x,y)[1] > alpha:\n",
    "        print('Не отвергаем H0 о равенстве дисперсий, p-value =', stats.fligner(x,y)[1])\n",
    "    elif stats.fligner(x,y)[1] < alpha:\n",
    "        print('Отвергаем H0 о равенстве дисперсий, p-value =', stats.fligner(x,y)[1])\n",
    "    else:\n",
    "        print('Требуется более подробное рассмотрение')\n",
    "\n",
    "alpha = 0.05\n",
    "fligner_test(sal_town, sal_rural, alpha)"
   ]
  },
  {
   "cell_type": "markdown",
   "id": "6493ef13",
   "metadata": {},
   "source": [
    "Значение p-value больше уровня значимости 0.05, поэтому гипотезу о равенстве дисперсий не отвергаем.\n",
    "\n",
    "Поэтому гипотезу о равенстве средних значений будем проверять с помощью (```ttest```) с опцией равенства дисперсий.\n",
    "\n",
    "<b>Гипотеза H0 </b>: средние значения случайной величины \"зарплата медсестры\" в городе и за городом равны\n",
    "\n",
    "<b>Гипотеза H1 </b>: средние значения случайной величины \"зарплата медсестры\" в городе и за городом различны"
   ]
  },
  {
   "cell_type": "code",
   "execution_count": 14,
   "id": "36d734b1",
   "metadata": {},
   "outputs": [
    {
     "name": "stdout",
     "output_type": "stream",
     "text": [
      "Отвергаем H0 о равенстве средних в предположении рав-ва дисперсий, p-value = 0.0005409523097389856\n"
     ]
    }
   ],
   "source": [
    "\"\"\"\n",
    "    Функция t_test_equal для проверки равенства средних значений двух выборок при условии равенства дисперсий.\n",
    "    x: вектор pd.Series\n",
    "    y: вектор pd.Series\n",
    "    alpha: число float\n",
    "\"\"\"\n",
    "def t_test_equal(x,y, alpha):\n",
    "    if stats.ttest_ind(x,y, equal_var=True)[1] > alpha:\n",
    "        print('Не отвергаем H0 о равенстве средних в предположении рав-ва дисперсий, p-value =', stats.ttest_ind(x,y,equal_var=True)[1])\n",
    "    elif stats.ttest_ind(x,y,equal_var=True)[1] < alpha:\n",
    "        print('Отвергаем H0 о равенстве средних в предположении рав-ва дисперсий, p-value =', stats.ttest_ind(x,y,equal_var=True)[1])\n",
    "    else:\n",
    "        print('Требуется более подробное рассмотрение')\n",
    "\n",
    "alpha = 0.05\n",
    "t_test_equal(sal_town, sal_rural, alpha)"
   ]
  },
  {
   "cell_type": "markdown",
   "id": "3c56a839",
   "metadata": {},
   "source": [
    "Запомним данный результат. Теперь все же попробуем проверить гипотезу в случае, когда дисперсии не равны. Мотивацией к такой проверке служит тот факт, что p-value при использовании критерия Флигнера-Килина близко к 0.05."
   ]
  },
  {
   "cell_type": "code",
   "execution_count": 15,
   "id": "39517648",
   "metadata": {},
   "outputs": [
    {
     "name": "stdout",
     "output_type": "stream",
     "text": [
      "Отвергаем H0 о равенстве средних в предположении различных дисперсий, p-value = 0.0026517310185132596\n"
     ]
    }
   ],
   "source": [
    "\"\"\"\n",
    "    Функция t_test_nonequal для проверки равенства средних значений двух выборок при условии неравенства дисперсий.\n",
    "    x: вектор pd.Series\n",
    "    y: вектор pd.Series\n",
    "    alpha: число float\n",
    "\"\"\"\n",
    "def t_test_nonequal(x,y, alpha):\n",
    "    if stats.ttest_ind(x,y)[1] > alpha:\n",
    "        print('Не отвергаем H0 о равенстве средних в предположении различных дисперсий, p-value =', stats.ttest_ind(x,y,equal_var=False)[1])\n",
    "    elif stats.ttest_ind(x,y)[1] < alpha:\n",
    "        print('Отвергаем H0 о равенстве средних в предположении различных дисперсий, p-value =', stats.ttest_ind(x,y,equal_var = False)[1])\n",
    "    else:\n",
    "        print('Требуется более подробное рассмотрение')\n",
    "\n",
    "alpha = 0.05\n",
    "t_test_nonequal(sal_town, sal_rural, alpha)"
   ]
  },
  {
   "cell_type": "markdown",
   "id": "208f54b2",
   "metadata": {},
   "source": [
    "Таким образом, гипотеза о равенстве средних значений двух выборок отвергается. <b>Зарплаты медсестер в городских и сельских больницах различаются (статистически значимое различие с уровнем значимости 0.05) </b>"
   ]
  },
  {
   "cell_type": "markdown",
   "id": "df645074",
   "metadata": {},
   "source": [
    "#### 4.2. Проверка в предположении о не нормальном распределении"
   ]
  },
  {
   "cell_type": "markdown",
   "id": "fa4bd234",
   "metadata": {},
   "source": [
    "В данном случае мы считаем распределения зарплат отличными от нормальных. Интересуют нас центры двух распределений, которые мы и будем сравнивать. В качестве типичных значений рассмотрим медианные значения. \n",
    "\n",
    "Будем проверять гипотезу о равенстве медиан (т.е. типичных значений) двух распределений. Для проверки применим критерий Манна-Уитни (т.к. выборки несвязные).\n",
    "\n",
    "<b>Гипотеза H0 </b>: медианы случайной величины \"зарплата медсестры\" в городе/за городом равны\n",
    "\n",
    "<b>Гипотеза H1 </b>: медианы случайной величины \"зарплата медсестры\" в городе/за городом различны"
   ]
  },
  {
   "cell_type": "code",
   "execution_count": 16,
   "id": "8e7a7ddf",
   "metadata": {},
   "outputs": [
    {
     "name": "stdout",
     "output_type": "stream",
     "text": [
      "Отвергаем H0 о равенстве медианных значений, p-value = 0.0017745599734812778\n"
     ]
    }
   ],
   "source": [
    "\"\"\"\n",
    "    Функция mannwhitneyu_test для проверки равенства медиан двух выборок.\n",
    "    x: вектор pd.Series\n",
    "    y: вектор pd.Series\n",
    "    alpha: число float\n",
    "\"\"\"\n",
    "def mannwhitneyu_test(x,y, alpha):\n",
    "    if stats.mannwhitneyu(x,y)[1] > alpha:\n",
    "        print('Не отвергаем H0 о равенстве медианных значений, p-value =', stats.mannwhitneyu(x,y)[1])\n",
    "    elif stats.mannwhitneyu(x,y)[1] < alpha:\n",
    "        print('Отвергаем H0 о равенстве медианных значений, p-value =', stats.mannwhitneyu(x,y)[1])\n",
    "    else:\n",
    "        print('Требуется более подробное рассмотрение')\n",
    "\n",
    "alpha = 0.05\n",
    "mannwhitneyu_test(sal_town, sal_rural, alpha)"
   ]
  },
  {
   "cell_type": "markdown",
   "id": "44362c0a",
   "metadata": {},
   "source": [
    "Таким образом, гипотеза о равенстве медианных значений двух выборок отвергается. <b>Зарплаты медсестер в городских и сельских больницах различаются (статистически значимое различие с уровнем значимости 0.05) </b>"
   ]
  },
  {
   "cell_type": "markdown",
   "id": "8f27bacb",
   "metadata": {},
   "source": [
    "### ШАГ 5. Построение ящиковой диаграммы, выводы"
   ]
  },
  {
   "cell_type": "markdown",
   "id": "c725ea92",
   "metadata": {},
   "source": [
    "Построим ящиковую диаграмму. Медианная зарплата медсестер городских больниц больше, чем сельских. Тот факт, что медиана одного класса не попадает в межквартильный размах другого класса, подтверждает гипотезу о том, что такое различие в зарплатах не случайно (т.е. не обусловлено колебаниями в данных). Да, есть городские больницы, где медсестры получают примерно столько же, сколько и в среднем в сельских больницах, но при этом это не \"типичные\" случаи.  \n",
    "\n",
    "Например, медианное значение з/п сельской медсестры = 3124.5 < 3129.5 = квартиль 25% городской медсестры.\n",
    "\n",
    "Также можно видеть, что межквартильный размах для \"городских\" зарплат больше. "
   ]
  },
  {
   "cell_type": "code",
   "execution_count": 17,
   "id": "2a3092bc",
   "metadata": {},
   "outputs": [
    {
     "data": {
      "image/png": "[encoded data removed]",
      "text/plain": [
       "<Figure size 432x288 with 1 Axes>"
      ]
     },
     "metadata": {
      "needs_background": "light"
     },
     "output_type": "display_data"
    }
   ],
   "source": [
    "sns.boxplot(data=data, x='RURAL', y='NSAL')\n",
    "plt.axhline(sal_town.mean(), alpha = 0.5, color = 'red', linestyle = '-.')\n",
    "plt.axhline(sal_rural.mean(), alpha = 0.5, color = 'blue', linestyle = '-.')\n",
    "plt.title('Ящиковая диаграмма')\n",
    "plt.ylabel('З/п медсестры, сотни долларов')\n",
    "plt.xlabel('0 - город, 1 - загород')\n",
    "plt.show()"
   ]
  },
  {
   "cell_type": "markdown",
   "id": "07fbb3ff",
   "metadata": {},
   "source": [
    "### Вывод по задаче №1:\n",
    "\n",
    "В данной задаче сравнивались годовые зарплаты медсестер, а точнее: проверялась гипотеза о равенстве зарплат медсестер городских и сельских больниц. \n",
    "\n",
    "Зарплаты медсестер, работающих в городе и за городом, различны. Для обоснования данного вывода были построены гистограмммы распределений (с проверкой гипотезы об их нормальности), проверены гипотезы о: равенстве дисперсий, о равенстве медиан распределений и средних значений. Гипотеза о равенстве средних значений была отвергнута. Уровень значимости при проверке гипотез равнялся 0.05."
   ]
  },
  {
   "cell_type": "markdown",
   "id": "e90e9268",
   "metadata": {},
   "source": [
    "### P.S.\n",
    "Хотелось бы добавить, что я так и не пришла к выводу о том, являются ли распределения з/п для обеих групп нормальными. Причиной сомнений стали не только гистограммы, но и одно из p-значений при проверке гипотезы о нормальности критерием Шапиро-Уилка: оно довольно близко к 0.05. \n",
    "\n",
    "К тому же, критерий Колмогорова-Смирнова отвергал гипотезу о нормальности распределений, что не облегчило задачу. Решено было воспользоваться критерием Шапиро-Уилка как наиболее \"мощным\" и подходящим для небольших выборок.\n",
    "\n",
    "Обоснования к использованию именно такого значения для alpha я не привела, потому что вариантов то особо и не было:) Задаваться значением в 0.01 было бы странно для такой небольшой выборки, поэтому использовалось стандартное значение в 0.05."
   ]
  },
  {
   "cell_type": "markdown",
   "id": "5a7c5fa9",
   "metadata": {},
   "source": [
    "<b>Задача 2. Unions and State Labor Law</b>"
   ]
  },
  {
   "cell_type": "code",
   "execution_count": 18,
   "id": "9e816e67",
   "metadata": {},
   "outputs": [],
   "source": [
    "os.chdir(r\"C:\\Users\\qwerty\\Desktop\\ИТМО\\АД на python\\Задачи для лабораторной 4\\Unions and State Labor Law\")"
   ]
  },
  {
   "cell_type": "code",
   "execution_count": 19,
   "id": "6e7f69dd",
   "metadata": {},
   "outputs": [
    {
     "data": {
      "text/html": [
       "<div>\n",
       "<style scoped>\n",
       "    .dataframe tbody tr th:only-of-type {\n",
       "        vertical-align: middle;\n",
       "    }\n",
       "\n",
       "    .dataframe tbody tr th {\n",
       "        vertical-align: top;\n",
       "    }\n",
       "\n",
       "    .dataframe thead th {\n",
       "        text-align: right;\n",
       "    }\n",
       "</style>\n",
       "<table border=\"1\" class=\"dataframe\">\n",
       "  <thead>\n",
       "    <tr style=\"text-align: right;\">\n",
       "      <th></th>\n",
       "      <th>STATE</th>\n",
       "      <th>DENS</th>\n",
       "      <th>COMP</th>\n",
       "      <th>RTW</th>\n",
       "      <th>PVT</th>\n",
       "    </tr>\n",
       "  </thead>\n",
       "  <tbody>\n",
       "    <tr>\n",
       "      <th>0</th>\n",
       "      <td>NY</td>\n",
       "      <td>56.9</td>\n",
       "      <td>1</td>\n",
       "      <td>0</td>\n",
       "      <td>31.2</td>\n",
       "    </tr>\n",
       "    <tr>\n",
       "      <th>1</th>\n",
       "      <td>MI</td>\n",
       "      <td>49.6</td>\n",
       "      <td>1</td>\n",
       "      <td>0</td>\n",
       "      <td>30.2</td>\n",
       "    </tr>\n",
       "    <tr>\n",
       "      <th>2</th>\n",
       "      <td>WA</td>\n",
       "      <td>32.4</td>\n",
       "      <td>1</td>\n",
       "      <td>0</td>\n",
       "      <td>33.1</td>\n",
       "    </tr>\n",
       "    <tr>\n",
       "      <th>3</th>\n",
       "      <td>HI</td>\n",
       "      <td>54.6</td>\n",
       "      <td>1</td>\n",
       "      <td>0</td>\n",
       "      <td>24.7</td>\n",
       "    </tr>\n",
       "    <tr>\n",
       "      <th>4</th>\n",
       "      <td>AK</td>\n",
       "      <td>30.7</td>\n",
       "      <td>1</td>\n",
       "      <td>0</td>\n",
       "      <td>30.1</td>\n",
       "    </tr>\n",
       "  </tbody>\n",
       "</table>\n",
       "</div>"
      ],
      "text/plain": [
       "    STATE  DENS  COMP  RTW   PVT\n",
       "0      NY  56.9     1    0  31.2\n",
       "1      MI  49.6     1    0  30.2\n",
       "2      WA  32.4     1    0  33.1\n",
       "3      HI  54.6     1    0  24.7\n",
       "4      AK  30.7     1    0  30.1"
      ]
     },
     "execution_count": 19,
     "metadata": {},
     "output_type": "execute_result"
    }
   ],
   "source": [
    "# Считаем данные\n",
    "data = pd.read_csv('Unions and State Labor Law_data.txt', sep = '\\t')\n",
    "\n",
    "# Выведем датафрейм\n",
    "data.head()"
   ]
  },
  {
   "cell_type": "markdown",
   "id": "4632f115",
   "metadata": {},
   "source": [
    "### ШАГ 0. Знакомство с даннымии их осмысление. Постановка задачи.\n",
    "<br>\n",
    "В данных нет пропусков, что упрощает нам работу.\n",
    "\n",
    "Имеем данные о 50-х штатах США с информацией о проценте государственных работников профсоюзов, принятом или не принятом законе штата о праве на труд и т.д.\n",
    "Полный перечень атрибутов будет приведен ниже.\n",
    "<br>\n",
    "\n",
    "<b>Задача</b>: Требуется сравнить процент муниципальных служащих, состоящих в профсоюзах в 1982 в разных штатах США в зависимости от того, распространяется ли в штате закон о ведении переговоров на муниципальных служащих."
   ]
  },
  {
   "cell_type": "markdown",
   "id": "060cbef5",
   "metadata": {},
   "source": [
    "<b>Описание переменных</b>\n",
    "\n",
    "DENS = Процент работников государственного сектора в профсоюзах, 1982\n",
    "\n",
    "COMP = Законы штата о ведении переговоров распространяются на государственных служащих (1) или нет (0)\n",
    "\n",
    "RTW = Закон штата о праве на труд (1) или нет (0)\n",
    "\n",
    "PVT = Процент работников частного сектора в профсоюзах, 1982"
   ]
  },
  {
   "cell_type": "code",
   "execution_count": 20,
   "id": "d9b31987",
   "metadata": {},
   "outputs": [
    {
     "data": {
      "text/plain": [
       "  STATE    0\n",
       "DENS       0\n",
       "COMP       0\n",
       "RTW        0\n",
       "PVT        0\n",
       "dtype: int64"
      ]
     },
     "execution_count": 20,
     "metadata": {},
     "output_type": "execute_result"
    }
   ],
   "source": [
    "# В данных нет пропусков \n",
    "data[data.isnull()].count()"
   ]
  },
  {
   "cell_type": "code",
   "execution_count": 21,
   "id": "15ba9a7c",
   "metadata": {},
   "outputs": [
    {
     "data": {
      "text/html": [
       "<div>\n",
       "<style scoped>\n",
       "    .dataframe tbody tr th:only-of-type {\n",
       "        vertical-align: middle;\n",
       "    }\n",
       "\n",
       "    .dataframe tbody tr th {\n",
       "        vertical-align: top;\n",
       "    }\n",
       "\n",
       "    .dataframe thead th {\n",
       "        text-align: right;\n",
       "    }\n",
       "</style>\n",
       "<table border=\"1\" class=\"dataframe\">\n",
       "  <thead>\n",
       "    <tr style=\"text-align: right;\">\n",
       "      <th></th>\n",
       "      <th>count</th>\n",
       "      <th>mean</th>\n",
       "      <th>std</th>\n",
       "      <th>min</th>\n",
       "      <th>25%</th>\n",
       "      <th>50%</th>\n",
       "      <th>75%</th>\n",
       "      <th>max</th>\n",
       "    </tr>\n",
       "    <tr>\n",
       "      <th>COMP</th>\n",
       "      <th></th>\n",
       "      <th></th>\n",
       "      <th></th>\n",
       "      <th></th>\n",
       "      <th></th>\n",
       "      <th></th>\n",
       "      <th></th>\n",
       "      <th></th>\n",
       "    </tr>\n",
       "  </thead>\n",
       "  <tbody>\n",
       "    <tr>\n",
       "      <th>0</th>\n",
       "      <td>23.0</td>\n",
       "      <td>27.660870</td>\n",
       "      <td>6.701407</td>\n",
       "      <td>13.4</td>\n",
       "      <td>23.25</td>\n",
       "      <td>28.6</td>\n",
       "      <td>32.25</td>\n",
       "      <td>42.3</td>\n",
       "    </tr>\n",
       "    <tr>\n",
       "      <th>1</th>\n",
       "      <td>27.0</td>\n",
       "      <td>38.140741</td>\n",
       "      <td>12.611572</td>\n",
       "      <td>13.7</td>\n",
       "      <td>29.85</td>\n",
       "      <td>37.3</td>\n",
       "      <td>48.65</td>\n",
       "      <td>61.1</td>\n",
       "    </tr>\n",
       "  </tbody>\n",
       "</table>\n",
       "</div>"
      ],
      "text/plain": [
       "      count       mean        std   min    25%   50%    75%   max\n",
       "COMP                                                             \n",
       "0      23.0  27.660870   6.701407  13.4  23.25  28.6  32.25  42.3\n",
       "1      27.0  38.140741  12.611572  13.7  29.85  37.3  48.65  61.1"
      ]
     },
     "execution_count": 21,
     "metadata": {},
     "output_type": "execute_result"
    }
   ],
   "source": [
    "# Выведем статистику по проценту муниципальных служащих в профсоюзах. Сгруппируем по тому, принят закон о праве на труд или нет\n",
    "grouped = data.groupby(['COMP'])['DENS']\n",
    "grouped.describe()"
   ]
  },
  {
   "cell_type": "markdown",
   "id": "469f3b4c",
   "metadata": {},
   "source": [
    "Имеем 23 штата, где закон о ведении переговоров не распространяется на муниципальных работников, и 27 штатов, где распространяется.\n",
    "\n",
    "Медианные и средние значения % муниципальных служащих отличаются: в штатах, где закон действует на гос. работников, их доля больше. Больше и максимальное значение, и межквартильный размах.\n",
    "<br>"
   ]
  },
  {
   "cell_type": "markdown",
   "id": "05a3e5a7",
   "metadata": {},
   "source": [
    "### ШАГ 1. Отбор переменных\n",
    "<br>\n",
    "В данной задаче интересуемся долей муниципальных служащих профсоюзов (DENS) в зависимости от действия на них закона о ведении переговоров (т.е. значения атрибута COMP)"
   ]
  },
  {
   "cell_type": "code",
   "execution_count": 22,
   "id": "2630f592",
   "metadata": {},
   "outputs": [],
   "source": [
    "# Выделим из исходного датафрейма интересующие нас столбцы\n",
    "percent_reject = data[data['COMP'] == 0]['DENS']\n",
    "percent_adopt = data[data['COMP'] == 1]['DENS']\n",
    "# Зададим названия\n",
    "percent_reject.name = 'percent_no_law'\n",
    "percent_adopt.name = 'percent_law'"
   ]
  },
  {
   "cell_type": "markdown",
   "id": "e2768ff4",
   "metadata": {},
   "source": [
    "### ШАГ 2. Стандартизация\n",
    "<br>\n",
    "Стандартизация в данном случае не нужна, потому что сравниваемые данные представлены в одной и той же шкале (доли служащих)"
   ]
  },
  {
   "cell_type": "markdown",
   "id": "74121b38",
   "metadata": {},
   "source": [
    "### ШАГ 3. Проверка гипотезы о нормальности распределений.\n",
    "<br>\n",
    "Перед тем, как непосредственно отвечать на вопрос задачи, построим гистограммы распределения % служащих и постараемся понять, с какими распределениями мы имеем дело.\n",
    "<br>"
   ]
  },
  {
   "cell_type": "markdown",
   "id": "4a7ae931",
   "metadata": {},
   "source": [
    "Для штатов, где закон не распространяется на гос служащих:\n",
    "\n",
    "В целом кажется, что есть сходство с теоретическим нормальным распределением. Отклонения от нормальности: отклонение от колоколообразной формы из-за больших значений (особенно справа от выборочного среднего), асимметрия.\n",
    "\n",
    "\n",
    "В целом, учитывая объем выборки (в 23 значения), распределение я бы посчитала распределение схожим с нормальным."
   ]
  },
  {
   "cell_type": "code",
   "execution_count": 23,
   "id": "0e33d68f",
   "metadata": {},
   "outputs": [
    {
     "data": {
      "image/png": "[encoded data removed]",
      "text/plain": [
       "<Figure size 720x576 with 1 Axes>"
      ]
     },
     "metadata": {
      "needs_background": "light"
     },
     "output_type": "display_data"
    }
   ],
   "source": [
    "histogram(percent_reject,8)"
   ]
  },
  {
   "cell_type": "markdown",
   "id": "62c0f118",
   "metadata": {},
   "source": [
    "Построим аналогичное сравнение для штатов, где закон распространяется на гос служащих. Видим отклонения от колоколообразной формы за счет высоких значений, небольшую асимметрию."
   ]
  },
  {
   "cell_type": "code",
   "execution_count": 24,
   "id": "d1faae63",
   "metadata": {},
   "outputs": [
    {
     "data": {
      "image/png": "[encoded data removed]",
      "text/plain": [
       "<Figure size 720x576 with 1 Axes>"
      ]
     },
     "metadata": {
      "needs_background": "light"
     },
     "output_type": "display_data"
    }
   ],
   "source": [
    "histogram(percent_adopt,6)"
   ]
  },
  {
   "cell_type": "markdown",
   "id": "ea4614fd",
   "metadata": {},
   "source": [
    "Используем критерий для проверки гипотезы о нормальности каждого из двух распределений. В обоих случаях имеем нулевую и альтернативную гипотезы:\n",
    "\n",
    "<b>Гипотеза H0 </b>: распределение случайной величины \"доля муниципальных служащих профсоюзов\" с принятым/не принятым законом является нормальным\n",
    "\n",
    "<b>Гипотеза H1 </b>: распределение случайной величины \"доля муниципальных служащих профсоюзов\" с принятым/не принятым законом не является нормальным"
   ]
  },
  {
   "cell_type": "markdown",
   "id": "20ff56dd",
   "metadata": {},
   "source": [
    "Для проверки гипотезы воспользуемся критерием Шапиро - Уилка. Уровень значимости = 0.05. Если полученное p-value больше уровня значимости, то нет оснований отвергать нулевую гипотезу. Иначе - будем отвергать нулевую гипотезу."
   ]
  },
  {
   "cell_type": "code",
   "execution_count": 25,
   "id": "aac53c00",
   "metadata": {},
   "outputs": [
    {
     "name": "stdout",
     "output_type": "stream",
     "text": [
      "Для штатов, где закон не распространяется:\n",
      "Не отвергаем H0 о нормальности распределения, p-value = 0.943257212638855\n",
      "Для штатов, где закон распространяется:\n",
      "Не отвергаем H0 о нормальности распределения, p-value = 0.7401027679443359\n"
     ]
    }
   ],
   "source": [
    "alpha = 0.05\n",
    "print('Для штатов, где закон не распространяется:')\n",
    "shapiro_test(percent_reject, alpha)\n",
    "\n",
    "print('Для штатов, где закон распространяется:')\n",
    "shapiro_test(percent_adopt, alpha)"
   ]
  },
  {
   "cell_type": "markdown",
   "id": "bc88d439",
   "metadata": {},
   "source": [
    "Видим, что гипотеза о нормальности распределения не отвергается (для % служащих в штатах с принятым и не принятым законом). Иными словами - распределения долей служащих нормальны."
   ]
  },
  {
   "cell_type": "markdown",
   "id": "5fc9acf7",
   "metadata": {},
   "source": [
    "### ШАГ 4. Проверка гипотезы о равенстве процентов муниципальных служащих профсоюзов."
   ]
  },
  {
   "cell_type": "markdown",
   "id": "9b47d58b",
   "metadata": {},
   "source": [
    "Будем проверять гипотезу о равенстве средних (т.е. типичных) значений двух распределений. Для проверки применим критерий Стьюдента, предварительно проверив равенство дисперсий.\n",
    "\n",
    "Итак, по порядку. Построим на одном графике гистограммы распределений."
   ]
  },
  {
   "cell_type": "code",
   "execution_count": 26,
   "id": "3550193a",
   "metadata": {},
   "outputs": [
    {
     "data": {
      "image/png": "[encoded data removed]",
      "text/plain": [
       "<Figure size 432x288 with 1 Axes>"
      ]
     },
     "metadata": {
      "needs_background": "light"
     },
     "output_type": "display_data"
    }
   ],
   "source": [
    "two_hist(percent_reject, percent_adopt)"
   ]
  },
  {
   "cell_type": "markdown",
   "id": "e03e2c93",
   "metadata": {},
   "source": [
    "Критерием Флигнера-Килина проверим, равны ли дисперсии. Позволю себе не дублировать формулировку гипотез. "
   ]
  },
  {
   "cell_type": "code",
   "execution_count": 27,
   "id": "9f0f1d78",
   "metadata": {},
   "outputs": [
    {
     "name": "stdout",
     "output_type": "stream",
     "text": [
      "Отвергаем H0 о равенстве дисперсий, p-value = 0.0022863939638667475\n"
     ]
    }
   ],
   "source": [
    "alpha = 0.05\n",
    "fligner_test(percent_reject, percent_adopt, alpha)"
   ]
  },
  {
   "cell_type": "markdown",
   "id": "f5b2902f",
   "metadata": {},
   "source": [
    "Значение p-value меньше уровня значимости 0.05, поэтому гипотезу о равенстве дисперсий отвергаем. В двух выборках находятся разные  объекты, значит выборки независимые. \n",
    "\n",
    "Поэтому гипотезу о равенстве средних значений будем проверять с помощью (```ttest```) с опцией неравенства дисперсий."
   ]
  },
  {
   "cell_type": "code",
   "execution_count": 28,
   "id": "5f92378c",
   "metadata": {},
   "outputs": [
    {
     "name": "stdout",
     "output_type": "stream",
     "text": [
      "Отвергаем H0 о равенстве средних в предположении различных дисперсий, p-value = 0.0005628173082035911\n"
     ]
    }
   ],
   "source": [
    "alpha = 0.05\n",
    "t_test_nonequal(percent_reject, percent_adopt, alpha)"
   ]
  },
  {
   "cell_type": "markdown",
   "id": "5702d655",
   "metadata": {},
   "source": [
    "Таким образом, гипотеза о равенстве средних значений двух выборок отвергается.\n",
    "\n",
    "<b>Доли муниципальных служащих в штатах, где закон на них распространяется или нет, отличаются (статистически значимое различие с уровнем значимости 0.05) </b>"
   ]
  },
  {
   "cell_type": "markdown",
   "id": "c2a1208a",
   "metadata": {},
   "source": [
    "### ШАГ 5. Построение ящиковой диаграммы, выводы"
   ]
  },
  {
   "cell_type": "markdown",
   "id": "81355fe5",
   "metadata": {},
   "source": [
    "Построим ящиковую диаграмму. Медианная доля муниципальных служащих больше в штатах, где закон действует на гос. работников, чем в штатах, где закон на них не распространяется. И снова медиана одного класса не попадает в межквартильный размах другого класса.\n",
    "\n",
    "Например, медианное значение доли служащих, где закон действует = 37.3% > 32.25% = квартиль 75% в штатах с недействующим на гос работников законом.\n",
    "\n",
    "Также можно видеть, межквартильный размах для штатов с действующим законом больше. "
   ]
  },
  {
   "cell_type": "code",
   "execution_count": 30,
   "id": "76444373",
   "metadata": {},
   "outputs": [
    {
     "data": {
      "image/png": "[encoded data removed]",
      "text/plain": [
       "<Figure size 432x288 with 1 Axes>"
      ]
     },
     "metadata": {
      "needs_background": "light"
     },
     "output_type": "display_data"
    }
   ],
   "source": [
    "sns.boxplot(data=data, x='COMP', y='DENS')\n",
    "plt.axhline(percent_reject.mean(), alpha = 0.5, color = 'red', linestyle = '-.')\n",
    "plt.axhline(percent_adopt.mean(), alpha = 0.5, color = 'blue', linestyle = '-.')\n",
    "plt.title('Ящиковая диаграмма')\n",
    "plt.ylabel('Доля муниципальных служащих профсоюзов %')\n",
    "plt.xlabel('0 - не действует на гос служащих, 1 - действует')\n",
    "plt.show()"
   ]
  },
  {
   "cell_type": "markdown",
   "id": "2d41d26b",
   "metadata": {},
   "source": [
    "### Вывод по задаче №2:\n",
    "\n",
    "В данной задаче сравнивались доли муниципальных служащих, а точнее: проверялась гипотеза о равенстве долей служащих в штатах, где закон о ведении переговоров распространяется на гос служащих, и в штатах, где не распространяется. \n",
    "\n",
    "% гос служащих отличается в штатах с действующим и недействующим на них законом. Для обоснования данного вывода были построены гистограмммы распределений (с проверкой гипотезы об их нормальности), проверены гипотезы о: равенстве дисперсий, о равенстве  средних значений распределений. Гипотеза о равенстве средних значений была отвергнута. Уровень значимости при проверке гипотез равнялся 0.05."
   ]
  },
  {
   "cell_type": "markdown",
   "id": "12e89551",
   "metadata": {},
   "source": [
    "### Выводы по задачам 1-2:\n",
    "\n",
    "В работе были проверены статистические гипотезы: для каждой задачи сформулированы основная и альтернативная гипотезы. При проверке гипотез сравнивались центры распределений. \n",
    "\n",
    "Обоснование применяемых критериев, построение гистограмм и ящиковых диаграмм приведено в ходе решения."
   ]
  }
 ],
 "metadata": {
  "kernelspec": {
   "display_name": "Python 3 (ipykernel)",
   "language": "python",
   "name": "python3"
  },
  "language_info": {
   "codemirror_mode": {
    "name": "ipython",
    "version": 3
   },
   "file_extension": ".py",
   "mimetype": "text/x-python",
   "name": "python",
   "nbconvert_exporter": "python",
   "pygments_lexer": "ipython3",
   "version": "3.9.12"
  }
 },
 "nbformat": 4,
 "nbformat_minor": 5
}
