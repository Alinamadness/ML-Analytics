{
 "cells": [
  {
   "cell_type": "markdown",
   "id": "51232c8f",
   "metadata": {},
   "source": [
    "## FCNN linear regression"
   ]
  },
  {
   "cell_type": "markdown",
   "id": "c510bf9b-2c8d-43e1-af0d-6040b7d9948b",
   "metadata": {},
   "source": [
    "Выполнила: Галиуллина Алина Ринатовна\n",
    "<br>\n",
    "Тема работы: многослойный перцептрон\n",
    "<br>\n",
    "Основные комментарии по существу задачи будут в ячейках \"Markdown\". Примечания по коду будут закомментированы в ячейках самого кода"
   ]
  },
  {
   "cell_type": "code",
   "execution_count": 1,
   "id": "dd098512-cee5-4cd6-aa57-e175d927f10d",
   "metadata": {},
   "outputs": [],
   "source": [
    "# # Импортируем необходимые библиотеки\n",
    "import numpy as np\n",
    "import matplotlib.pyplot as plt\n",
    "from sklearn.metrics import mean_squared_error"
   ]
  },
  {
   "cell_type": "markdown",
   "id": "ae41830d",
   "metadata": {},
   "source": [
    "### ШАГ 0. Постановка задачи.\n",
    "\n",
    "<b>Задача </b>: построить модель регрессии для предсказания."
   ]
  },
  {
   "cell_type": "code",
   "execution_count": 2,
   "id": "356d7349",
   "metadata": {},
   "outputs": [
    {
     "data": {
      "image/png": "[encoded data removed]",
      "text/plain": [
       "<Figure size 432x288 with 1 Axes>"
      ]
     },
     "metadata": {
      "needs_background": "light"
     },
     "output_type": "display_data"
    }
   ],
   "source": [
    "np.random.seed(21)\n",
    "\n",
    "# Воспользуемся синтетическими данными\n",
    "w0_true, w1_true = 1, -4\n",
    "\n",
    "X = np.random.rand(300,1) \n",
    "y = w0_true + w1_true * X + np.random.randn(300, 1)\n",
    "\n",
    "plt.scatter(X, y)\n",
    "plt.title('Синтетические данные для регресии')\n",
    "plt.show()"
   ]
  },
  {
   "cell_type": "markdown",
   "id": "cbf36532",
   "metadata": {},
   "source": [
    "### ШАГ 1. Реализация архитектуры для решения задачи регрессии"
   ]
  },
  {
   "cell_type": "code",
   "execution_count": 3,
   "id": "3df65127",
   "metadata": {},
   "outputs": [],
   "source": [
    "class FullyConnectedNetwork:\n",
    "    __REGULARIZATION_GRAD = {None: lambda _w: 0, \"l1\": lambda _w: np.sign(_w), \"l2\": lambda _w: 2*_w}\n",
    "    __REGULARIZATION_FUNC = {None: lambda _w: 0, \"l1\": lambda _w: np.abs(_w), \"l2\": lambda _w: _w ** 2}\n",
    "    __LOSS = 0\n",
    "    \n",
    "    # создание нейронной сети: alpha — скорость обучения (шаг градиентного спуска),\n",
    "    # reg_type — тип регуляризации (если есть), lambda — параметр регуляризации; слои будут храниться в списке layers\n",
    "    def __init__(self, alpha=0.01, reg_type=None, lambda_=0):\n",
    "        self.__layers = list()\n",
    "        self.__alpha = alpha\n",
    "        self.__reg_type = reg_type\n",
    "        self.__lambda = lambda_\n",
    "        \n",
    "\n",
    "    # метод, позволяющий добавить новый слой: указываем правильные размеры слоя, название функции активации, class_number — количество классов в случае использования Sotmax'а на последнем слое, параметр a — параметр LeakyReLU\n",
    "    def add_layer(self, size: tuple, activation_func: str, a=0,loss=''):\n",
    "        if not self.__layers or self.__layers[-1].size[1] == size[0]:\n",
    "            self.__layers.append(FullyConnectedLayer(size, activation_func, a,loss))\n",
    "        else:\n",
    "            raise Exception(\"Wrong size of the layer!\")\n",
    "\n",
    "    def change_alpha(self, alpha):\n",
    "        self.__alpha = alpha\n",
    "\n",
    "    def get_loss(self):\n",
    "        return FullyConnectedNetwork.__LOSS\n",
    "\n",
    "    \n",
    "    def predict(self, data):\n",
    "        current_output = data\n",
    "        for layer in self.__layers[:-1]:\n",
    "            current_output, _ = layer.forward(current_output, None)\n",
    "        layer_weights, layer_biases = self.__layers[-1].get_weights()\n",
    "        return np.matmul(current_output, layer_weights) - layer_biases\n",
    "\n",
    "\n",
    "    def fit(self, data, answers):\n",
    "        # выход входного слоя совпадает с фичами входных данных\n",
    "        layer_outputs = [data]\n",
    "        current_output = layer_outputs[0]\n",
    "        grads = []\n",
    "        # forward pass и вычисление градиентов функций активации\n",
    "        for layer in self.__layers:\n",
    "            current_output, gradient = layer.forward(current_output, answers)\n",
    "            layer_outputs.append(current_output)\n",
    "            grads.append(gradient)\n",
    "        # для вычисления градиентов по правилу цепочки, удобно развернуть массив\n",
    "        grads = grads[::-1]\n",
    "        # для градиента параметров самого первого слоя, умножаем на «производную» независимой переменной\n",
    "        grads.append(1)\n",
    "        current_gradient = grads[0]\n",
    "        FullyConnectedNetwork.__LOSS = layer_outputs[-1]\n",
    "        for i, layer in enumerate(self.__layers[::-1]):\n",
    "            layer_weights, layer_biases = layer.get_weights()\n",
    "            FullyConnectedNetwork.__LOSS += self.__lambda * (np.sum(FullyConnectedNetwork.__REGULARIZATION_FUNC[self.__reg_type](layer_weights) + FullyConnectedNetwork.__REGULARIZATION_FUNC[self.__reg_type](layer_biases)))\n",
    "            # вычисление градиента параметров W слоя layer\n",
    "            d_weights = np.matmul(layer_outputs[-2 - i].T, current_gradient)\n",
    "            # вычисление градиента параметров db слоя layer\n",
    "            d_bias = -np.matmul(np.ones(layer_outputs[-2 - i].shape[0]), current_gradient) / layer_outputs[-2 - i].shape[0]\n",
    "            # выполнение шага градиентного спуска\n",
    "            layer.update_weights(self.__alpha * (d_weights + self.__lambda * FullyConnectedNetwork.__REGULARIZATION_GRAD[self.__reg_type](layer_weights)) , self.__alpha * (d_bias + self.__lambda * FullyConnectedNetwork.__REGULARIZATION_GRAD[self.__reg_type](layer_biases)))\n",
    "            # правило цепочки\n",
    "            current_gradient = np.matmul(current_gradient, layer_weights.T) * grads[i + 1]\n",
    "\n",
    "# класс, отвечающий за слой в нейронной сети\n",
    "class FullyConnectedLayer:\n",
    "    # мы предполагаем, что реализованы следующие функции активации, на последнем слое возможно решение задачи классификации с Softmax\n",
    "    __ACTIVATION_FUNCTIONS = {'ReLU': {'func': lambda a, x: np.maximum(x, 0), 'derivative': lambda a, x: np.where(x >= 0, 1, 0)},\n",
    "                              'LReLU': {'func': lambda a, x: np.where(x >= 0, x, a*x), 'derivative': lambda a, x: np.where(x >= 0, 1, a)},\n",
    "                              'None': {'func': lambda a, x: x, 'derivative': lambda a, x: 1},\n",
    "                              'Sigmoid': {'func': lambda a, x: np.exp(x) / (1 + np.exp(x)), 'derivative': lambda a, x: np.exp(x) / (1 + np.exp(x)) ** 2},\n",
    "                              }\n",
    "    \n",
    "    # создание нового слоя: задание размеров слоя, случайная (равномерная на [-1/2, 1/2]) инициализация весов, запоминание функции активации, фиксация количества классов в случае решения задачи классификации\n",
    "    def __init__(self, size: tuple, activation_func: str, a=0, loss=''):\n",
    "        self.size = size\n",
    "        self.__weights = np.random.random((size[0], size[1])) - 0.5\n",
    "        self.__bias = np.random.random((1, size[1])) - 0.5\n",
    "        self.__a = a\n",
    "        if activation_func in FullyConnectedLayer.__ACTIVATION_FUNCTIONS.keys():\n",
    "            self.__activation_func = activation_func\n",
    "        else:\n",
    "            raise Exception(\"No such activation function!\")\n",
    "        if activation_func == 'None':\n",
    "            self.__loss = loss\n",
    "\n",
    "    # метод, возвращающий значения весов: веса и смещения\n",
    "    def get_weights(self):\n",
    "        return self.__weights, self.__bias\n",
    "\n",
    "    def get_activation_func(self):\n",
    "        return self.__activation_func\n",
    "\n",
    "    # метод, модифицирующий веса после градиентного шага\n",
    "    def update_weights(self, d_weights, d_biases):\n",
    "        self.__weights -= d_weights\n",
    "        self.__bias -= d_biases\n",
    "\n",
    "    # метод, возвращающий градиент\n",
    "    def __get_grad(self, data, answers):\n",
    "        return FullyConnectedLayer.__ACTIVATION_FUNCTIONS[self.__activation_func]['derivative'](self.__a, data)\n",
    "\n",
    "    def __mse_loss_grad(self, data, answers):\n",
    "        activation =  np.mean((data - answers.reshape(-1,1)) ** 2)\n",
    "        gradient = 2 * (data - answers.reshape(-1,1)) / len(answers)\n",
    "        return activation, gradient\n",
    "\n",
    "    def __mae_loss_grad(self, data, answers):\n",
    "        activation =  np.mean(np.abs(data - answers.reshape(-1,1)))\n",
    "        gradient = np.sign(data - answers.reshape(-1,1)) / len(answers)\n",
    "        return activation, gradient\n",
    "\n",
    "\n",
    "    # проход по слою с вычислением градиента функции активации на текущей итерации и текущем наборе данных, для последнего слоя нет нужды вычислять значение, если только не хочется узнать что-то про функцию потерь\n",
    "    def forward(self, data, answers):\n",
    "        if self.__activation_func ==\"None\":\n",
    "            matrix_pass = np.matmul(data, self.__weights) - self.__bias\n",
    "            if self.__loss == 'MAE':\n",
    "                activation, gradient = self.__mae_loss_grad(matrix_pass, answers)\n",
    "            elif self.__loss == 'MSE':\n",
    "                activation, gradient = self.__mse_loss_grad(matrix_pass, answers)\n",
    "        else:\n",
    "            matrix_pass = np.matmul(data, self.__weights) - self.__bias\n",
    "            activation = FullyConnectedLayer.__ACTIVATION_FUNCTIONS[self.__activation_func]['func'](self.__a, matrix_pass)\n",
    "            gradient = self.__get_grad(matrix_pass, answers)\n",
    "        return activation, gradient"
   ]
  },
  {
   "cell_type": "code",
   "execution_count": 4,
   "id": "d71bfeae",
   "metadata": {},
   "outputs": [
    {
     "name": "stdout",
     "output_type": "stream",
     "text": [
      "MSE=0.9779212486669769\n",
      "MSE=0.9776170583672694\n",
      "MSE=0.9776075481871768\n",
      "MSE=0.977606616875419\n",
      "MSE=0.977606524050456\n",
      "MSE=0.9776065147600199\n",
      "MSE=0.9776065138310199\n",
      "MSE=0.9776065137379878\n",
      "MSE=0.9776065137286984\n",
      "MSE=0.977606513727769\n"
     ]
    }
   ],
   "source": [
    "# @title MSE\n",
    "NN = FullyConnectedNetwork(alpha=0.11, reg_type='l2', lambda_=0.002)\n",
    "loss = []\n",
    "NN.add_layer(size=(1, 48), activation_func='ReLU')\n",
    "NN.add_layer((48, 1), activation_func='None', loss='MSE')\n",
    "alpha = 0.1\n",
    "for ep in range(1000):\n",
    "    NN.fit(X, y)\n",
    "    loss.append((ep, NN.get_loss()))\n",
    "    if (ep + 1) % 100 == 0:\n",
    "        alpha = alpha / 10\n",
    "        NN.change_alpha(alpha)\n",
    "        print(f'MSE={mean_squared_error(y, NN.predict(X))}')"
   ]
  },
  {
   "cell_type": "code",
   "execution_count": 5,
   "id": "ed9479f4",
   "metadata": {},
   "outputs": [
    {
     "data": {
      "image/png": "[encoded data removed]",
      "text/plain": [
       "<Figure size 432x288 with 1 Axes>"
      ]
     },
     "metadata": {
      "needs_background": "light"
     },
     "output_type": "display_data"
    }
   ],
   "source": [
    "# Визиализируем результаты.\n",
    "plt.scatter(X, y, label='initial data')\n",
    "plt.plot(X, NN.predict(X), color = 'red', label='regression NN')\n",
    "plt.xlabel('X')\n",
    "plt.ylabel('y')\n",
    "plt.legend()\n",
    "plt.title('Результат обучения модели')\n",
    "plt.show()"
   ]
  },
  {
   "cell_type": "markdown",
   "id": "eaa2052f",
   "metadata": {},
   "source": [
    "### Выводы\n",
    "\n",
    "В работе была выполена реализация полносвязной нейронной сети для решения задачи регрессии."
   ]
  }
 ],
 "metadata": {
  "kernelspec": {
   "display_name": "Python 3 (ipykernel)",
   "language": "python",
   "name": "python3"
  },
  "language_info": {
   "codemirror_mode": {
    "name": "ipython",
    "version": 3
   },
   "file_extension": ".py",
   "mimetype": "text/x-python",
   "name": "python",
   "nbconvert_exporter": "python",
   "pygments_lexer": "ipython3",
   "version": "3.9.12"
  }
 },
 "nbformat": 4,
 "nbformat_minor": 5
}
